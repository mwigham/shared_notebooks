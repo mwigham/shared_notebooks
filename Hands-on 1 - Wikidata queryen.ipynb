{
 "cells": [
  {
   "cell_type": "markdown",
   "metadata": {},
   "source": [
    "## Hands-on 1 Wikidata queryen\n",
    "Deze notebook demonstreert hoe je de Wikidata API kunt queryen om de geslacht van een persoon op te halen\n",
    "\n",
    "De wikidata API is een linked data endpoint, die met de SPARQL query taal gequeryed kan worden"
   ]
  },
  {
   "cell_type": "code",
   "execution_count": null,
   "metadata": {},
   "outputs": [],
   "source": [
    "import requests\n",
    "import urllib"
   ]
  },
  {
   "cell_type": "code",
   "execution_count": null,
   "metadata": {},
   "outputs": [],
   "source": [
    "query = \"SELECT DISTINCT ?genderLabel WHERE {?person wdt:P31 wd:Q5 . ?person ?label \\\"Mark Rutte\\\" .?person wdt:P21 ?gender .SERVICE wikibase:label {  bd:serviceParam wikibase:language \\\"nl\\\".}}\"\n",
    "headers = {\"Accept\":\"application/json\",\n",
    "\n",
    "          }\n",
    "response = requests.get(\"https://query.wikidata.org/sparql?query=\" + urllib.parse.quote(query), headers=headers)\n",
    "\n",
    "if response.status_code == 200:\n",
    "    genders = [binding[\"genderLabel\"][\"value\"] for binding in response.json()[\"results\"][\"bindings\"] if \"genderLabel\" in binding]\n",
    "    if genders:\n",
    "        gender = genders[0]\n",
    "        print(gender)"
   ]
  },
  {
   "cell_type": "markdown",
   "metadata": {},
   "source": [
    "Wat gaat er mis?\n",
    "We voldoen niet aan de regels van Wikidata. Plak onderstaande regel, inclusief spaties, in onder de 'headers' regel\n",
    "\n",
    "           \"User-Agent\":\"wikidataDataAlsKansDemoBot/0.0 (http://www.beeldengeluid.nl)\"\n",
    "           \n",
    "Draai de notebook nu weer"
   ]
  },
  {
   "cell_type": "markdown",
   "metadata": {},
   "source": [
    "Geavanceerd:\n",
    "- Ga naar https://www.wikidata.org/wiki/Q57792\n",
    "- Vind 'sex or gender' en hover met de muis erover. Je ziet links onderaan in je browser de property URL verschijnen\n",
    "- Vind een andere property die je interessant vindt, bijvoorbeeld 'country of citizenship'. Noteer de property nummer\n",
    "- Vul dat nummer in in plaats van 'P31' en draai de code opnieuw\n",
    "\n",
    "Heel geavanceerd:\n",
    "Je eigen query schrijven? Probeer https://query.wikidata.org/"
   ]
  }
 ],
 "metadata": {
  "kernelspec": {
   "display_name": "jupyter",
   "language": "python",
   "name": "jupyter"
  },
  "language_info": {
   "codemirror_mode": {
    "name": "ipython",
    "version": 3
   },
   "file_extension": ".py",
   "mimetype": "text/x-python",
   "name": "python",
   "nbconvert_exporter": "python",
   "pygments_lexer": "ipython3",
   "version": "3.7.3"
  }
 },
 "nbformat": 4,
 "nbformat_minor": 2
}
