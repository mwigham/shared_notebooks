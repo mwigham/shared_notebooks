{
 "cells": [
  {
   "cell_type": "markdown",
   "metadata": {},
   "source": [
    "## Hands-on 3 - Functies\n",
    "Nu is dezelfde code georganiseerd in functies. \n",
    "Voordelen:\n",
    "- herbruikbaar\n",
    "- verstopt de onnodige opties\n",
    "- leesbaar\n",
    "- goed voor testen (zien we straks)"
   ]
  },
  {
   "cell_type": "code",
   "execution_count": null,
   "metadata": {},
   "outputs": [],
   "source": [
    "import csv\n",
    "def load_speaker_data(filename):\n",
    "    \"\"\"Leest de spreker data in van de file\"\"\"\n",
    "    df = pd.read_csv(filename)\n",
    "    return df"
   ]
  },
  {
   "cell_type": "code",
   "execution_count": null,
   "metadata": {},
   "outputs": [],
   "source": [
    "import pandas as pd\n",
    "import requests\n",
    "import urllib\n",
    "def get_gender(name):\n",
    "    \"\"\"Gegeven een naam, haalt de geslacht van die persoon op uit Wikidata.\n",
    "    Geeft een lege waarde terug als geen gender is gevonden\"\"\"\n",
    "    gender = \"Unknown\"\n",
    "    query = \"SELECT DISTINCT ?genderLabel WHERE {?person wdt:P31 wd:Q5 . ?person ?label \\\"%s\\\" .?person wdt:P21 ?gender .SERVICE wikibase:label {  bd:serviceParam wikibase:language \\\"nl\\\".}}\"%name\n",
    "    headers = {\"Accept\":\"application/json\",\n",
    "              }\n",
    "    response = requests.get(\"https://query.wikidata.org/sparql?query=\" + urllib.parse.quote(query), headers=headers)\n",
    "    \n",
    "    if response.status_code == 200:\n",
    "        genders = [binding[\"genderLabel\"][\"value\"] for binding in response.json()[\"results\"][\"bindings\"] if \"genderLabel\" in binding]\n",
    "        if genders:\n",
    "            gender = genders[0]\n",
    "    return gender"
   ]
  },
  {
   "cell_type": "markdown",
   "metadata": {},
   "source": [
    "## Wat we echt gaan doen"
   ]
  },
  {
   "cell_type": "code",
   "execution_count": null,
   "metadata": {},
   "outputs": [],
   "source": [
    "spreker_data = load_speaker_data(\"speaker_times.csv\")\n",
    "spreker_gender = get_gender(\"Mark Rutte\")\n",
    "print(spreker_gender)"
   ]
  },
  {
   "cell_type": "code",
   "execution_count": null,
   "metadata": {},
   "outputs": [],
   "source": []
  }
 ],
 "metadata": {
  "kernelspec": {
   "display_name": "jupyter",
   "language": "python",
   "name": "jupyter"
  },
  "language_info": {
   "codemirror_mode": {
    "name": "ipython",
    "version": 3
   },
   "file_extension": ".py",
   "mimetype": "text/x-python",
   "name": "python",
   "nbconvert_exporter": "python",
   "pygments_lexer": "ipython3",
   "version": "3.7.3"
  }
 },
 "nbformat": 4,
 "nbformat_minor": 2
}
