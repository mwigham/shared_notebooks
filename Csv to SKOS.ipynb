{
 "cells": [
  {
   "cell_type": "markdown",
   "metadata": {},
   "source": [
    "Given a list of labels in a CSV file, this notebook creates, from each label, a SKOS concept with the given label as pref label. The notebook expects that the CSV file has a single row header, and one label per row, in the first column. The concepts are created in the specified namespace, with the row number of the concept as its ID. The pref label is given the specified language tag. The resulting RDF is exported as a turtle file."
   ]
  },
  {
   "cell_type": "code",
   "execution_count": null,
   "metadata": {},
   "outputs": [],
   "source": [
    "from rdflib.namespace import SKOS, RDF\n",
    "from rdflib import Graph, URIRef, Literal\n",
    "import csv\n",
    "from rdflib.namespace import Namespace, NamespaceManager\n",
    "\n",
    "inputFilename = \"example.csv\"  # name of CSV file containing the labels\n",
    "outputFilename = \"output.ttl\"  # name of turtle file where the RDF output will be written to\n",
    "chosenNamespacePath = \"http://www.example.org/\"  # namespace in which the concepts will be created. The IDs will start with this\n",
    "prefix = \"ex\"  # prefix for the namespace. This makes the generated RDF more readable, as e.g. the concept http://www.example.org/1 is written as ex:1\n",
    "languageTag = \"en\"  # language tag for the labels, e.g. 'en' for English, 'nl' for Dutch. See https://en.wikipedia.org/wiki/IETF_language_tag"
   ]
  },
  {
   "cell_type": "code",
   "execution_count": null,
   "metadata": {},
   "outputs": [],
   "source": [
    "with open(inputFilename, 'r', encoding=\"utf-8\") as csvfile:\n",
    "    reader = csv.reader(csvfile, delimiter='#')\n",
    "\n",
    "    graph = Graph()\n",
    "        \n",
    "    chosenNamespace = Namespace(chosenNamespacePath)\n",
    "    namespaceManager = NamespaceManager(Graph())\n",
    "    namespaceManager.bind(prefix, chosenNamespace)\n",
    "    namespaceManager.bind(\"skos\", SKOS)\n",
    "    namespaceManager.bind(\"rdf\", RDF) \n",
    "\n",
    "    graph.namespace_manager = namespaceManager\n",
    "    \n",
    "    i = 0\n",
    "    print(\"converting...\")\n",
    "    for row in reader:\n",
    "        if i > 0:\n",
    "            #print(\"row %s\"%i)  # delete the '#' before 'print' if you want to keep track of which row is being processed\n",
    "            if len(row) > 0 and row[0]:\n",
    "                graph.add((URIRef(chosenNamespacePath + str(i)), RDF.type, SKOS.Concept))\n",
    "                graph.add((URIRef(chosenNamespacePath + str(i)), SKOS.prefLabel, Literal(row[0], lang=languageTag)))\n",
    "        i+=1\n",
    "    print(\"done\")\n",
    "    \n",
    "    graph.serialize(outputFilename, format=\"turtle\")"
   ]
  },
  {
   "cell_type": "code",
   "execution_count": null,
   "metadata": {},
   "outputs": [],
   "source": []
  }
 ],
 "metadata": {
  "kernelspec": {
   "display_name": "jupyter-rdf",
   "language": "python",
   "name": "jupyter-rdf"
  },
  "language_info": {
   "codemirror_mode": {
    "name": "ipython",
    "version": 3
   },
   "file_extension": ".py",
   "mimetype": "text/x-python",
   "name": "python",
   "nbconvert_exporter": "python",
   "pygments_lexer": "ipython3",
   "version": "3.7.3"
  }
 },
 "nbformat": 4,
 "nbformat_minor": 2
}
