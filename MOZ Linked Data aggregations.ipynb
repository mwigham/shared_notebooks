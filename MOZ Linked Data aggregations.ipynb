{
 "cells": [
  {
   "cell_type": "markdown",
   "id": "a44cae71",
   "metadata": {},
   "source": [
    "This notebook queries the public ODL linked data endpoint with SPARQL to obtain aggregations from the MOZ (Muziekopnamen Zendgemachtigden). These are printed for copying to Flourish.\n",
    "\n",
    "This notebook was used to generate the data for the MOZ collection description on the LABS website."
   ]
  },
  {
   "cell_type": "code",
   "execution_count": null,
   "id": "afaf19e5",
   "metadata": {},
   "outputs": [],
   "source": [
    "import json\n",
    "import os\n",
    "import requests\n",
    "\n",
    "from collections import OrderedDict\n",
    "\n",
    "sparql_endpoint = \"https://cat.apis.beeldengeluid.nl/sparql\"\n",
    "muziekweb_sparql_endpoint = \"https://api.data.muziekweb.nl/datasets/MuziekwebOrganization/Muziekweb/services/Muziekweb/sparql\"\n",
    "moz_series_id = \"<http://data.beeldengeluid.nl/id/series/2101608030025711131>\"\n",
    "\n",
    "prefixes = \"\"\"PREFIX schema: <http://schema.org/>\n",
    "              PREFIX sdo: <https://schema.org/>\n",
    "              PREFIX skos: <http://www.w3.org/2004/02/skos/core#>\n",
    "              PREFIX rdfs: <http://www.w3.org/2000/01/rdf-schema#>\\n\"\"\"\n",
    "\n",
    "muziekweb_prefixes = \"\"\"PREFIX skos: <http://www.w3.org/2004/02/skos/core#>\n",
    "                        PREFIX vocab: <https://data.muziekweb.nl/vocab/>\n",
    "                        PREFIX rdf: <http://www.w3.org/1999/02/22-rdf-syntax-ns#>\n",
    "                        PREFIX rdfs: <http://www.w3.org/2000/01/rdf-schema#>\\n\"\"\"\n",
    " "
   ]
  },
  {
   "cell_type": "code",
   "execution_count": null,
   "id": "fd7d645d",
   "metadata": {},
   "outputs": [],
   "source": [
    "def get_count_from_sparql(sparql_endpoint, query):\n",
    "    \"\"\"Carries out the query on the endpoint and returns the value of the count\n",
    "    :params - sparql_endpoint - the endpoint containing the RDF data to be queried\n",
    "    :params - query - the query to be carried out. This must select a count variable called ?count\n",
    "    :returns - the count of the results. Note, if the query fails, then the result is 0\"\"\"\n",
    "    response = requests.get(\n",
    "                sparql_endpoint,\n",
    "                params={\"query\": query},\n",
    "                headers = {\"Accept\": \"application/sparql-results+json\"})\n",
    "    return response.json()[\"results\"][\"bindings\"][0][\"count\"][\"value\"]"
   ]
  },
  {
   "cell_type": "code",
   "execution_count": null,
   "id": "5662c6a9",
   "metadata": {},
   "outputs": [],
   "source": [
    "def get_category_count_from_sparql(sparql_endpoint, query):\n",
    "    \"\"\"Carries out the query on the endpoint and returns the value of the counts per category\n",
    "    :params - sparql_endpoint - the endpoint containing the RDF data to be queried\n",
    "    :params - query - the query to be carried out. This must select a count variable called ?count and \n",
    "    a variable ?category per value of which the count has been calculated\n",
    "    :returns - a dict of the categories with their counts\"\"\"\n",
    "    category_counts = OrderedDict()\n",
    "    response = requests.get(\n",
    "                sparql_endpoint,\n",
    "                params={\"query\": query},\n",
    "                headers = {\"Accept\": \"application/sparql-results+json\"})\n",
    "    for result in response.json()[\"results\"][\"bindings\"]:\n",
    "        category_counts[result[\"category\"][\"value\"]] = int(result[\"count\"][\"value\"])\n",
    "        \n",
    "    return category_counts"
   ]
  },
  {
   "cell_type": "code",
   "execution_count": null,
   "id": "71abf21e",
   "metadata": {},
   "outputs": [],
   "source": [
    "def get_category_count_and_category_uri_from_sparql(sparql_endpoint, query):\n",
    "    \"\"\"Carries out the query on the endpoint and returns the value of the counts per category, and also the category uri\n",
    "    :params - sparql_endpoint - the endpoint containing the RDF data to be queried\n",
    "    :params - query - the query to be carried out. This must select a count variable called ?count and \n",
    "    a variable ?category per value of which the count has been calculated, and a variable ?category_uri for the URI\n",
    "    of the category\n",
    "    :returns - a dict of the categories with a field \"count\" for the count and a field \"uri\" for the uri \"\"\"\n",
    "    category_counts = OrderedDict()\n",
    "    response = requests.get(\n",
    "                sparql_endpoint,\n",
    "                params={\"query\": query},\n",
    "                headers = {\"Accept\": \"application/sparql-results+json\"})\n",
    "    for result in response.json()[\"results\"][\"bindings\"]:\n",
    "        category_counts[result[\"category\"][\"value\"]] = {\n",
    "                                                        \"count\": int(result[\"count\"][\"value\"]),\n",
    "                                                        \"uri\": result[\"category_uri\"][\"value\"]\n",
    "                                                        }\n",
    "        \n",
    "    return category_counts"
   ]
  },
  {
   "cell_type": "code",
   "execution_count": null,
   "id": "bf05586f",
   "metadata": {},
   "outputs": [],
   "source": [
    "def fill_gaps_in_timeline(timeline):\n",
    "    \"\"\"For a timeline in years, fills in gaps where there are no values with the value 0.\n",
    "    :params timeline - an ordered dict with the years as keys and the counts as values\n",
    "    :returns an ordered dict with complete data between the first and final year\"\"\"\n",
    "    start_year = int(list(timeline.keys())[0])\n",
    "    end_year = int(list(timeline.keys())[-1]) + 1\n",
    "    \n",
    "    complete_timeline = OrderedDict()\n",
    "    for year in range(start_year, end_year):\n",
    "        if str(year) not in timeline:\n",
    "            complete_timeline[str(year)] = 0\n",
    "        else:\n",
    "            complete_timeline[str(year)] = int(timeline[str(year)])\n",
    "    return complete_timeline"
   ]
  },
  {
   "cell_type": "code",
   "execution_count": null,
   "id": "c4951b6f",
   "metadata": {},
   "outputs": [],
   "source": [
    "def get_person_connections(person_id):\n",
    "    \"\"\"Gets the persons connected to this person via programmes or scenes, with the properties creator or byArtist\n",
    "    :params person_id - the GTAA id of the person\n",
    "    :returns a dictionary with the name of the person as key, then the fields 'count' and 'uri' for the count\n",
    "    of how often the person co-occurs with the input person, and the GTAA uri of the person\"\"\"\n",
    "    query=prefixes + f\"\"\"\n",
    "    SELECT ?count ?category ?category_uri\n",
    "    WHERE\n",
    "    {{\n",
    "     {{\n",
    "      SELECT (COUNT(DISTINCT ?program) as ?count) ?category ?category_uri\n",
    "      WHERE\n",
    "      {{\n",
    "\n",
    "        ?program sdo:partOfSeason/sdo:partOfSeries <http://data.beeldengeluid.nl/id/series/2101608030025711131> .\n",
    "        {{\n",
    "             ?program (sdo:creator/sdo:creator)|(sdo:byArtist/sdo:byArtist) {person_id} ;\n",
    "                      (sdo:creator/sdo:creator)|(sdo:byArtist/sdo:byArtist) ?category_uri .\n",
    "        }}\n",
    "          UNION\n",
    "        {{\n",
    "            ?program sdo:hasPart ?scene .\n",
    "            ?scene (sdo:creator/sdo:creator)|(sdo:byArtist/sdo:byArtist) {person_id};\n",
    "                   (sdo:creator/sdo:creator)|(sdo:byArtist/sdo:byArtist) ?category_uri .\n",
    "        }}\n",
    "            ?category_uri skos:prefLabel ?category\n",
    "      }} GROUP BY ?category_uri ?category\n",
    "     }}\n",
    "    }} ORDER BY DESC(?count) LIMIT 10\n",
    "    \"\"\"\n",
    "\n",
    "    return get_category_count_and_category_uri_from_sparql(sparql_endpoint, query)"
   ]
  },
  {
   "cell_type": "code",
   "execution_count": null,
   "id": "454c6f08",
   "metadata": {},
   "outputs": [],
   "source": [
    "def get_top_x_entities_by_role_property(role_property, number_of_entities):\n",
    "    query=prefixes + f\"\"\"\n",
    "\n",
    "    SELECT ?count ?category\n",
    "    WHERE\n",
    "    {{\n",
    "      {{\n",
    "        SELECT (COUNT(DISTINCT ?program) as ?count) ?category\n",
    "        WHERE \n",
    "        {{\n",
    "            ?program sdo:partOfSeason/sdo:partOfSeries {moz_series_id} .\n",
    "              {{\n",
    "                ?program {role_property}/{role_property} ?entity  .\n",
    "                ?entity skos:prefLabel ?category\n",
    "              }}\n",
    "              UNION\n",
    "              {{\n",
    "                ?program sdo:isPartOfSeason ?season .\n",
    "                ?season  {role_property}/{role_property} ?entity  .\n",
    "                ?entity skos:prefLabel ?category\n",
    "              }}\n",
    "              UNION\n",
    "              {{\n",
    "                {moz_series_id} {role_property}/{role_property} ?entity  .\n",
    "                ?entity skos:prefLabel ?category\n",
    "              }}\n",
    "              UNION\n",
    "              {{\n",
    "                ?program sdo:hasPart ?scene.\n",
    "                ?scene  {role_property}/{role_property} ?entity  .\n",
    "                ?entity skos:prefLabel ?category \n",
    "              }}\n",
    "        }} GROUP BY ?category \n",
    "      }}\n",
    "    }} ORDER BY DESC(?count) LIMIT {number_of_entities}\n",
    "    \"\"\"\n",
    "\n",
    "    return get_category_count_from_sparql(sparql_endpoint, query)"
   ]
  },
  {
   "cell_type": "code",
   "execution_count": null,
   "id": "44468661",
   "metadata": {},
   "outputs": [],
   "source": [
    "def uninvert_name(name):\n",
    "    \"\"\"Given a person name in the form surname, first name, returns this in the form\n",
    "    firstname surname.\n",
    "    :params name - inverted person name\n",
    "    :returns uninverted name\"\"\"\n",
    "    if \",\" in name:\n",
    "        name_parts = name.split(\",\")\n",
    "        return f\"{name_parts[1].strip()} {name_parts[0].strip()}\"\n",
    "    else:\n",
    "        return name"
   ]
  },
  {
   "cell_type": "markdown",
   "id": "400452f4",
   "metadata": {},
   "source": [
    "## Number of concerts"
   ]
  },
  {
   "cell_type": "code",
   "execution_count": null,
   "id": "607c78ae",
   "metadata": {},
   "outputs": [],
   "source": [
    "query = prefixes + f\"\"\"\n",
    "            SELECT (COUNT(DISTINCT(?program)) as ?count)\n",
    "            WHERE \n",
    "            {{\n",
    "                ?program sdo:partOfSeason/sdo:partOfSeries {moz_series_id}\n",
    "            }}\"\"\"\n",
    "\n",
    "total = int(get_count_from_sparql(sparql_endpoint, query))\n",
    "print(total)"
   ]
  },
  {
   "cell_type": "markdown",
   "id": "238c6446",
   "metadata": {},
   "source": [
    "## Number of concerts over time"
   ]
  },
  {
   "cell_type": "code",
   "execution_count": null,
   "id": "0d9ea4d0",
   "metadata": {},
   "outputs": [],
   "source": [
    "query = prefixes + f\"\"\"\n",
    "            SELECT (COUNT(?category) as ?count) ?category\n",
    "            WHERE \n",
    "            {{\n",
    "                ?program sdo:partOfSeason/sdo:partOfSeries {moz_series_id}.  \n",
    "                ?program <https://schema.org/datePublished> ?date .\n",
    "                BIND(substr(?date, 1, 4) as ?category)\n",
    "            }} GROUP BY ?category\"\"\"\n",
    "\n",
    "timeline = get_category_count_from_sparql(sparql_endpoint, query)\n",
    "complete_timeline = fill_gaps_in_timeline(timeline)  # fill in the gaps where there are no values\n",
    "\n",
    "for year in complete_timeline:\n",
    "    print(f\"{year}\\t{complete_timeline[year]}\")"
   ]
  },
  {
   "cell_type": "markdown",
   "id": "223a6473",
   "metadata": {},
   "source": [
    "## Distribution over muziekgenres"
   ]
  },
  {
   "cell_type": "code",
   "execution_count": null,
   "id": "ad667b95",
   "metadata": {},
   "outputs": [],
   "source": [
    "query = prefixes + f\"\"\"\n",
    "            SELECT ?count ?category\n",
    "            WHERE\n",
    "            {{\n",
    "                {{\n",
    "                SELECT (COUNT(?category) as ?count) ?category\n",
    "                    WHERE \n",
    "                    {{\n",
    "                        ?program sdo:partOfSeason/sdo:partOfSeries {moz_series_id}.  \n",
    "                        ?program sdo:genre/skos:prefLabel ?category .\n",
    "                    }} GROUP BY ?category\n",
    "                }}\n",
    "            }} ORDER BY DESC(?count) \"\"\"\n",
    "\n",
    "distribution = get_category_count_from_sparql(sparql_endpoint, query)\n",
    "\n",
    "for genre in distribution:\n",
    "    print(f\"{genre}\\t{distribution[genre]}\")"
   ]
  },
  {
   "cell_type": "markdown",
   "id": "479eab82",
   "metadata": {},
   "source": [
    "## Distribution over locations"
   ]
  },
  {
   "cell_type": "code",
   "execution_count": null,
   "id": "38da36c0",
   "metadata": {},
   "outputs": [],
   "source": [
    "query = prefixes + f\"\"\"\n",
    "            SELECT ?count ?category\n",
    "            WHERE\n",
    "            {{\n",
    "                {{\n",
    "\n",
    "                    SELECT (COUNT(?category) as ?count) ?category\n",
    "                    WHERE \n",
    "                    {{\n",
    "                        ?program sdo:partOfSeason/sdo:partOfSeries {moz_series_id}.\n",
    "                        {{  \n",
    "                            ?program <https://schema.org/locationCreated> ?category .\n",
    "                        }}\n",
    "                        UNION                \n",
    "                        {{  \n",
    "                            ?program sdo:hasPart ?scene.\n",
    "                            ?scene <https://schema.org/locationCreated> ?category .\n",
    "                        }}\n",
    "                    }} GROUP BY ?category\n",
    "                }}\n",
    "            }} ORDER BY DESC(?count) \"\"\"\n",
    "\n",
    "distribution = get_category_count_from_sparql(sparql_endpoint, query)\n",
    "\n",
    "for location in distribution:\n",
    "    print(f\"{location}\\t{distribution[location]}\")"
   ]
  },
  {
   "cell_type": "markdown",
   "id": "45287eae",
   "metadata": {},
   "source": [
    "## Distributie over events"
   ]
  },
  {
   "cell_type": "code",
   "execution_count": null,
   "id": "60cef475",
   "metadata": {},
   "outputs": [],
   "source": [
    "query = prefixes + f\"\"\"\n",
    "            SELECT ?count ?category\n",
    "            WHERE\n",
    "            {{\n",
    "                {{\n",
    "\n",
    "                    SELECT (COUNT(?category) as ?count) ?category\n",
    "                    WHERE \n",
    "                    {{\n",
    "                        ?program sdo:partOfSeason/sdo:partOfSeries {moz_series_id}.\n",
    "                        {{  \n",
    "                            ?program <https://schema.org/recordedAt>/skos:prefLabel ?category .\n",
    "                        }}\n",
    "                        UNION                \n",
    "                        {{  \n",
    "                            ?program sdo:hasPart ?scene.\n",
    "                            ?scene <https://schema.org/recordedAt>/skos:prefLabel ?category .\n",
    "                        }}\n",
    "                    }} GROUP BY ?category\n",
    "                }}\n",
    "            }} ORDER BY DESC(?count) \"\"\"\n",
    "\n",
    "distribution = get_category_count_from_sparql(sparql_endpoint, query)\n",
    "\n",
    "for event in distribution:\n",
    "    print(f\"{location}\\t{distribution[event]}\")"
   ]
  },
  {
   "cell_type": "markdown",
   "id": "9c5c217e",
   "metadata": {},
   "source": [
    "## Percentage of concerts with artists"
   ]
  },
  {
   "cell_type": "code",
   "execution_count": null,
   "id": "0fcbc750",
   "metadata": {},
   "outputs": [],
   "source": [
    "query = prefixes + f\"\"\"\n",
    "SELECT (COUNT(DISTINCT ?program) as ?count)\n",
    "WHERE \n",
    "{{\n",
    "        ?program sdo:partOfSeason/sdo:partOfSeries {moz_series_id}\n",
    "          {{\n",
    "            ?program \n",
    "              (sdo:byArtist|sdo:creator|sdo:mentions|sdo:contributor) ?x\n",
    "          }}\n",
    "          UNION\n",
    "          {{\n",
    "            ?program sdo:isPartOfSeason ?season .\n",
    "\n",
    "            ?season (sdo:byArtist|sdo:creator|sdo:mentions|sdo:contributor) ?x\n",
    "          }}\n",
    "          UNION\n",
    "          {{\n",
    "            {moz_series_id} (sdo:byArtist|sdo:creator|sdo:mentions|sdo:contributor) ?x\n",
    "          }}\n",
    "          UNION\n",
    "          {{\n",
    "            ?program sdo:hasPart ?scene.\n",
    "\n",
    "            ?scene (sdo:byArtist|sdo:creator|sdo:mentions|sdo:contributor) ?x\n",
    "          }}\n",
    "      }}\n",
    "\"\"\"\n",
    "with_person_count = int(get_count_from_sparql(sparql_endpoint, query))\n",
    "print(f\"Met artiesten\\t{with_person_count}\\t{((with_person_count)/total)*100:.2f}\")\n",
    "print(f\"Zonder artiesten\\t{total-with_person_count}\\t{100-((with_person_count)/total)*100:.2f}\")"
   ]
  },
  {
   "cell_type": "markdown",
   "id": "6ff1af34",
   "metadata": {},
   "source": [
    "## Number of artists\n",
    "NB: this includes orchestras etc. as well as individual persons"
   ]
  },
  {
   "cell_type": "code",
   "execution_count": null,
   "id": "6a14312a",
   "metadata": {},
   "outputs": [],
   "source": [
    "query = prefixes + f\"\"\"\n",
    "SELECT (COUNT(DISTINCT ?entityName) as ?count)\n",
    "WHERE \n",
    "{{\n",
    "        ?program sdo:partOfSeason/sdo:partOfSeries {moz_series_id}\n",
    "          {{\n",
    "            ?program \n",
    "              (sdo:byArtist|sdo:creator|sdo:mentions|sdo:contributor)/\n",
    "              (sdo:byArtist|sdo:creator|sdo:mentions|sdo:contributor) ?entity  .\n",
    "            ?entity skos:prefLabel ?entityName\n",
    "          }}\n",
    "          UNION\n",
    "          {{\n",
    "            ?program sdo:isPartOfSeason ?season .\n",
    "\n",
    "            ?season  (sdo:byArtist|sdo:creator|sdo:mentions|sdo:contributor)/\n",
    "            (sdo:byArtist|sdo:creator|sdo:mentions|sdo:contributor) ?entity  .\n",
    "            ?entity skos:prefLabel ?entityName\n",
    "          }}\n",
    "          UNION\n",
    "          {{\n",
    "            {moz_series_id}  (sdo:byArtist|sdo:creator|sdo:mentions|sdo:contributor)/\n",
    "            (sdo:byArtist|sdo:creator|sdo:mentions|sdo:contributor) ?entity  .\n",
    "            ?entity skos:prefLabel ?entityName\n",
    "          }}\n",
    "          UNION\n",
    "          {{\n",
    "            ?program sdo:hasPart ?scene.\n",
    "\n",
    "            ?scene  (sdo:byArtist|sdo:creator|sdo:mentions|sdo:contributor)/\n",
    "            (sdo:byArtist|sdo:creator|sdo:mentions|sdo:contributor) ?entity  .\n",
    "            ?entity skos:prefLabel ?entityName \n",
    "          }}\n",
    "      }}\n",
    "\"\"\"\n",
    "print(get_count_from_sparql(sparql_endpoint, query))"
   ]
  },
  {
   "cell_type": "markdown",
   "id": "3062c8c1",
   "metadata": {},
   "source": [
    "## Distribution over roles"
   ]
  },
  {
   "cell_type": "code",
   "execution_count": null,
   "id": "ce767cb3",
   "metadata": {},
   "outputs": [],
   "source": [
    "query=prefixes + f\"\"\"\n",
    "\n",
    "SELECT ?count ?category\n",
    "WHERE\n",
    "{{\n",
    "  {{\n",
    "    SELECT (COUNT(DISTINCT ?entityName) as ?count) ?role\n",
    "    WHERE \n",
    "    {{\n",
    "        {{\n",
    "            ?program sdo:partOfSeason/sdo:partOfSeries {moz_series_id} .\n",
    "            ?program ?role ?roleEntity . \n",
    "            ?roleEntity ?role ?entity  .\n",
    "            ?entity skos:prefLabel ?entityName\n",
    "        }}\n",
    "        UNION\n",
    "        {{\n",
    "            ?program sdo:partOfSeason/sdo:partOfSeries {moz_series_id} .\n",
    "            ?program sdo:partOfSeason ?season.\n",
    "            ?season ?role ?roleEntity . \n",
    "            ?roleEntity ?role ?entity  .\n",
    "            ?entity skos:prefLabel ?entityName\n",
    "        }}\n",
    "        UNION\n",
    "        {{\n",
    "            ?program sdo:partOfSeason/sdo:partOfSeries {moz_series_id} .\n",
    "            {moz_series_id} ?role ?roleEntity . \n",
    "            ?roleEntity ?role ?entity  .\n",
    "            ?entity skos:prefLabel ?entityName\n",
    "        }}\n",
    "        UNION\n",
    "        {{\n",
    "            ?program sdo:partOfSeason/sdo:partOfSeries {moz_series_id} .\n",
    "            ?program sdo:hasPart ?scene.\n",
    "            ?scene ?role ?roleEntity . \n",
    "            ?roleEntity ?role ?entity  .\n",
    "            ?entity skos:prefLabel ?entityName\n",
    "        }}\n",
    "        \n",
    "    }} GROUP BY ?role\n",
    "  }}\n",
    "    ?role rdfs:label ?category\n",
    "}} ORDER BY DESC(?count)\"\"\"\n",
    "\n",
    "distribution = get_category_count_from_sparql(sparql_endpoint, query)\n",
    "\n",
    "for role in distribution:\n",
    "    print(f\"{role}\\t{distribution[role]}\")"
   ]
  },
  {
   "cell_type": "markdown",
   "id": "ca5134ce",
   "metadata": {},
   "source": [
    "## Top x creators"
   ]
  },
  {
   "cell_type": "code",
   "execution_count": null,
   "id": "35356c8c",
   "metadata": {},
   "outputs": [],
   "source": [
    "number = 10\n",
    "distribution = get_top_x_entities_by_role_property(\"sdo:creator\", number)\n",
    "\n",
    "for person in distribution:\n",
    "    print(f\"{uninvert_name(person)}\\t{distribution[person]}\")"
   ]
  },
  {
   "cell_type": "code",
   "execution_count": null,
   "id": "9c17f7a5",
   "metadata": {},
   "outputs": [],
   "source": [
    "# number of albums in Muziekweb per creator\n",
    "for person in distribution:\n",
    "    person_name = uninvert_name(person)\n",
    "    query = muziekweb_prefixes + f\"\"\"\n",
    "            SELECT (COUNT(DISTINCT(?album)) AS ?count) \n",
    "            WHERE {{\n",
    "              ?album vocab:performer/skos:prefLabel \\\"{person_name}\\\" ; a vocab:Album\n",
    "            }}\"\"\"\n",
    "\n",
    "    print(f\"{uninvert_name(person)}\\t{get_count_from_sparql(muziekweb_sparql_endpoint, query)}\")"
   ]
  },
  {
   "cell_type": "markdown",
   "id": "cb8de013",
   "metadata": {},
   "source": [
    "## Top x performers"
   ]
  },
  {
   "cell_type": "code",
   "execution_count": null,
   "id": "118ba585",
   "metadata": {},
   "outputs": [],
   "source": [
    "number = 10\n",
    "distribution = get_top_x_entities_by_role_property(\"sdo:byArtist\", number)\n",
    "\n",
    "for artist in distribution:\n",
    "    print(f\"{uninvert_name(artist)}\\t{distribution[artist]}\")"
   ]
  },
  {
   "cell_type": "code",
   "execution_count": null,
   "id": "66354503",
   "metadata": {},
   "outputs": [],
   "source": [
    "# number of albums in Muziekweb per performer\n",
    "for artist in distribution:\n",
    "    artist_name = uninvert_name(artist)\n",
    "    query = muziekweb_prefixes + f\"\"\"\n",
    "            SELECT (COUNT(DISTINCT(?album)) AS ?count) \n",
    "            WHERE {{\n",
    "              ?album vocab:performer/skos:prefLabel \\\"{artist_name}\\\" ; a vocab:Album\n",
    "            }}\"\"\"\n",
    "\n",
    "    print(f\"{uninvert_name(artist)}\\t{get_count_from_sparql(muziekweb_sparql_endpoint, query)}\")"
   ]
  },
  {
   "cell_type": "markdown",
   "id": "ddf2e99f",
   "metadata": {},
   "source": [
    "## Network of a person"
   ]
  },
  {
   "cell_type": "code",
   "execution_count": null,
   "id": "2ad37098",
   "metadata": {},
   "outputs": [],
   "source": [
    "# For now, we choose Jean-Pierre Gabriel, most frequently occurring creator. Can choose any other creator\n",
    "\n",
    "person_id = \"<http://data.beeldengeluid.nl/gtaa/255521>\"  # Gabriel\n",
    "person_label = \"Gabriël, Jean-Pierre\"\n",
    "\n",
    "# get the person's top 10 connections\n",
    "connections = get_person_connections(person_id)\n",
    "\n",
    "person_group = {}\n",
    "\n",
    "# now get the top 10 connections for each of the person's top 10\n",
    "i = 2\n",
    "for person in connections:\n",
    "    person_connections = get_person_connections(\"<\"+ connections[person]['uri'] + \">\") \n",
    "    for new_person in person_connections:\n",
    "        if person != new_person:\n",
    "            print(f\"{uninvert_name(person)}\\t{uninvert_name(new_person)}\\t{person_connections[new_person]['count']}\")\n",
    "            if new_person not in person_group:\n",
    "                person_group[new_person] = i\n",
    "    i += 1\n",
    "\n",
    "# Paste output in the Links tab of the Flourish visualisation"
   ]
  },
  {
   "cell_type": "code",
   "execution_count": null,
   "id": "97ed47b7",
   "metadata": {},
   "outputs": [],
   "source": [
    "for person in person_group:\n",
    "    print(f\"{uninvert_name(person)}\\t{person_group[person]}\")\n",
    "    \n",
    "# Paste output in the Points tab of the Flourish visualisation"
   ]
  },
  {
   "cell_type": "markdown",
   "id": "9b588ded",
   "metadata": {},
   "source": [
    "## Top 10 production companies"
   ]
  },
  {
   "cell_type": "code",
   "execution_count": null,
   "id": "9b5cd3a9",
   "metadata": {},
   "outputs": [],
   "source": [
    "number = 10\n",
    "distribution = get_top_x_entities_by_role_property(\"sdo:productionCompany\", number)\n",
    "\n",
    "for company in distribution:\n",
    "    print(f\"{company}\\t{distribution[company]}\")"
   ]
  },
  {
   "cell_type": "markdown",
   "id": "40eb239c",
   "metadata": {},
   "source": [
    "## Top x broadcasters\n",
    "Broadcasters are not yet in the data, they will be added shortly"
   ]
  },
  {
   "cell_type": "code",
   "execution_count": null,
   "id": "5ce3f45a",
   "metadata": {},
   "outputs": [],
   "source": [
    "number = 10\n",
    "distribution = get_top_x_entities_by_role_property(\"sdo:provider\", number)\n",
    "\n",
    "for broadcaster in distribution:\n",
    "    print(f\"{broadcaster}\\t{distribution[broadcaster]}\")"
   ]
  },
  {
   "cell_type": "code",
   "execution_count": null,
   "id": "a8a91158",
   "metadata": {},
   "outputs": [],
   "source": []
  }
 ],
 "metadata": {
  "kernelspec": {
   "display_name": "task-oriented-notebooks",
   "language": "python",
   "name": "task-oriented-notebooks"
  },
  "language_info": {
   "codemirror_mode": {
    "name": "ipython",
    "version": 3
   },
   "file_extension": ".py",
   "mimetype": "text/x-python",
   "name": "python",
   "nbconvert_exporter": "python",
   "pygments_lexer": "ipython3",
   "version": "3.8.10"
  }
 },
 "nbformat": 4,
 "nbformat_minor": 5
}
