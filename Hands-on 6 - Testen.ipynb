{
 "cells": [
  {
   "cell_type": "markdown",
   "metadata": {},
   "source": [
    "## Hands-on 6 - Testen\n",
    "Kunnen we onze resultaten vertrouwen? Testen helpen daarbij"
   ]
  },
  {
   "cell_type": "code",
   "execution_count": null,
   "metadata": {},
   "outputs": [],
   "source": [
    "import csv\n",
    "def load_speaker_data(filename):\n",
    "    \"\"\"Leest de spreker data in van de file\"\"\"\n",
    "    df = pd.read_csv(filename)\n",
    "    return df"
   ]
  },
  {
   "cell_type": "code",
   "execution_count": null,
   "metadata": {},
   "outputs": [],
   "source": [
    "import pandas as pd\n",
    "def calculate_average_per_gender(speaker_data_with_gender):\n",
    "    pivoted_frame =  pd.pivot_table(speaker_data_with_gender, values=['Spreektijd'], index='Geslacht', aggfunc='mean')\n",
    "    pivoted_frame = pivoted_frame.reset_index()\n",
    "    \n",
    "    return pivoted_frame"
   ]
  },
  {
   "cell_type": "code",
   "execution_count": null,
   "metadata": {},
   "outputs": [],
   "source": [
    "expected_results = {\n",
    "    \"Mannelijk\": 7.5,\n",
    "    \"Vrouwelijk\": 3,\n",
    "    \"Unknown\": 20\n",
    "}"
   ]
  },
  {
   "cell_type": "code",
   "execution_count": null,
   "metadata": {},
   "outputs": [],
   "source": [
    "test_data = load_speaker_data(\"dummy_data.csv\")\n",
    "test_results = calculate_average_per_gender(test_data)\n",
    "print(test_results)"
   ]
  },
  {
   "cell_type": "code",
   "execution_count": null,
   "metadata": {},
   "outputs": [],
   "source": [
    "for index, row in test_results.iterrows():\n",
    "    if row['Spreektijd'] != expected_results[row['Geslacht']]:\n",
    "        print(f\"TEST FAILED: Speaker time {row['Spreektijd']} for {row['Geslacht']} should be {expected_results[row['Geslacht']]}\")\n",
    "              "
   ]
  },
  {
   "cell_type": "code",
   "execution_count": null,
   "metadata": {},
   "outputs": [],
   "source": []
  }
 ],
 "metadata": {
  "kernelspec": {
   "display_name": "jupyter",
   "language": "python",
   "name": "jupyter"
  },
  "language_info": {
   "codemirror_mode": {
    "name": "ipython",
    "version": 3
   },
   "file_extension": ".py",
   "mimetype": "text/x-python",
   "name": "python",
   "nbconvert_exporter": "python",
   "pygments_lexer": "ipython3",
   "version": "3.7.3"
  }
 },
 "nbformat": 4,
 "nbformat_minor": 2
}
