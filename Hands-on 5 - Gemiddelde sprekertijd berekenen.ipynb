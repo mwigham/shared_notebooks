{
 "cells": [
  {
   "cell_type": "markdown",
   "metadata": {},
   "source": [
    "## Hands-on 5 - Gemiddelde sprekertijd berekenen\n",
    "Nu berekenen we de gemiddelde sprekertijd per geslacht. En daarmee beantwoorden we onze vraag!"
   ]
  },
  {
   "cell_type": "code",
   "execution_count": null,
   "metadata": {},
   "outputs": [],
   "source": [
    "import csv\n",
    "def load_speaker_data(filename):\n",
    "    \"\"\"Leest de spreker data in van de file\"\"\"\n",
    "    df = pd.read_csv(filename)\n",
    "    return df"
   ]
  },
  {
   "cell_type": "code",
   "execution_count": null,
   "metadata": {},
   "outputs": [],
   "source": [
    "import pandas as pd\n",
    "import requests\n",
    "import urllib\n",
    "def get_gender(name):\n",
    "    \"\"\"Gegeven een naam, haalt de geslacht van die persoon op uit Wikidata.\n",
    "    Geeft een lege waarde terug als geen gender is gevonden\"\"\"\n",
    "    gender = \"Unknown\"\n",
    "    query = \"SELECT DISTINCT ?genderLabel WHERE {?person wdt:P31 wd:Q5 . ?person ?label \\\"%s\\\" .?person wdt:P21 ?gender .SERVICE wikibase:label {  bd:serviceParam wikibase:language \\\"nl\\\".}}\"%name\n",
    "    headers = {\"Accept\":\"application/json\",\n",
    "               \n",
    "               \"User-Agent\":\"wikidataDataAlsKansDemoBot/0.0 (http://www.beeldengeluid.nl)\"\n",
    "              }\n",
    "    response = requests.get(\"https://query.wikidata.org/sparql?query=\" + urllib.parse.quote(query), headers=headers)\n",
    "    \n",
    "    if response.status_code == 200:\n",
    "        genders = [binding[\"genderLabel\"][\"value\"] for binding in response.json()[\"results\"][\"bindings\"] if \"genderLabel\" in binding]\n",
    "        if genders:\n",
    "            gender = genders[0]\n",
    "    return gender"
   ]
  },
  {
   "cell_type": "code",
   "execution_count": null,
   "metadata": {},
   "outputs": [],
   "source": [
    "def add_gender_for_all_speakers(spreker_data):\n",
    "    gender_column = []\n",
    "    for person_name in spreker_data['Naam']:\n",
    "        print(person_name)\n",
    "        gender_column.append(get_gender(person_name))        \n",
    "        time.sleep(3)\n",
    "        \n",
    "    spreker_data['Geslacht'] = gender_column\n",
    "    \n",
    "    return spreker_data\n",
    "        "
   ]
  },
  {
   "cell_type": "code",
   "execution_count": null,
   "metadata": {},
   "outputs": [],
   "source": [
    "def calculate_average_per_gender(speaker_data_with_gender):\n",
    "    pivoted_frame =  pd.pivot_table(speaker_data_with_gender, values=['Spreektijd'], index='Geslacht', aggfunc='mean')\n",
    "    pivoted_frame = pivoted_frame.reset_index()\n",
    "    \n",
    "    return pivoted_frame"
   ]
  },
  {
   "cell_type": "code",
   "execution_count": null,
   "metadata": {},
   "outputs": [],
   "source": [
    "def plot_bar_chart(data, x_axis, y_axis):\n",
    "    import plotly.express as px\n",
    "\n",
    "    fig = px.bar(data, x = x_axis, y = y_axis)\n",
    "    fig.show()"
   ]
  },
  {
   "cell_type": "markdown",
   "metadata": {},
   "source": [
    "## Spreker data combineren met geslacht"
   ]
  },
  {
   "cell_type": "code",
   "execution_count": null,
   "metadata": {},
   "outputs": [],
   "source": [
    "spreker_data = load_speaker_data(\"speaker_times.csv\")\n",
    "print(spreker_data)\n",
    "spreker_geslacht_data = add_gender_for_all_speakers(spreker_data)\n",
    "print(spreker_geslacht_data)"
   ]
  },
  {
   "cell_type": "code",
   "execution_count": null,
   "metadata": {},
   "outputs": [],
   "source": [
    "average_per_gender = calculate_average_per_gender(spreker_geslacht_data)\n",
    "print(average_per_gender)"
   ]
  },
  {
   "cell_type": "markdown",
   "metadata": {},
   "source": [
    "### Plot the results"
   ]
  },
  {
   "cell_type": "code",
   "execution_count": null,
   "metadata": {},
   "outputs": [],
   "source": [
    "plot_bar_chart(average_per_gender, 'Geslacht', 'Spreektijd')"
   ]
  },
  {
   "cell_type": "code",
   "execution_count": null,
   "metadata": {},
   "outputs": [],
   "source": []
  }
 ],
 "metadata": {
  "kernelspec": {
   "display_name": "jupyter",
   "language": "python",
   "name": "jupyter"
  },
  "language_info": {
   "codemirror_mode": {
    "name": "ipython",
    "version": 3
   },
   "file_extension": ".py",
   "mimetype": "text/x-python",
   "name": "python",
   "nbconvert_exporter": "python",
   "pygments_lexer": "ipython3",
   "version": "3.7.3"
  }
 },
 "nbformat": 4,
 "nbformat_minor": 2
}
