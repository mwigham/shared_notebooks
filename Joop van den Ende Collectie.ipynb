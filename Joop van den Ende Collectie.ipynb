{
 "cells": [
  {
   "cell_type": "code",
   "execution_count": null,
   "id": "bb03bdad",
   "metadata": {},
   "outputs": [],
   "source": [
    "import csv\n",
    "import locale\n",
    "import pandas as pd\n",
    "import plotly.graph_objects as go\n",
    "import plotly.io as pio\n",
    "\n",
    "from ast import literal_eval"
   ]
  },
  {
   "cell_type": "code",
   "execution_count": null,
   "id": "b0468182",
   "metadata": {},
   "outputs": [],
   "source": [
    "def fill_gaps_in_timeline(timeline):\n",
    "    \"\"\"For a timeline in years, fills in gaps where there are no values with the value 0.\n",
    "    :param timeline - an ordered dict with the years as keys and the counts as values\n",
    "    :returns an ordered dict with complete data between the first and final year\"\"\"\n",
    "    start_year = int(list(timeline.keys())[0])\n",
    "    end_year = int(list(timeline.keys())[-1]) + 1\n",
    "    \n",
    "    complete_timeline = OrderedDict()\n",
    "    for year in range(start_year, end_year):\n",
    "        if str(year) not in timeline:\n",
    "            complete_timeline[str(year)] = 0\n",
    "        else:\n",
    "            complete_timeline[str(year)] = int(timeline[str(year)])\n",
    "    return complete_timeline"
   ]
  },
  {
   "cell_type": "code",
   "execution_count": null,
   "id": "a9200cc1",
   "metadata": {},
   "outputs": [],
   "source": [
    "def format_overlay_hover_info(keys, values, name):\n",
    "    \"\"\"Creates a list of hover infos for this part of the overlay graph. Hover information has format\n",
    "    '(key, value) name'\n",
    "    :param keys - the keys for the points on the graph\n",
    "    :param values - the values of the points on the graph\n",
    "    :param name - the name of the data\n",
    "    :returns the text for the hover info\n",
    "    \"\"\"\n",
    "    locale.setlocale(locale.LC_ALL, '')\n",
    "    text = []\n",
    "    i = 0\n",
    "    for key in keys:\n",
    "        format_string = \"%%.%df\"%0\n",
    "        formatted_value = locale.format_string(format_string, values[i], grouping = True)\n",
    "        text.append(f\"{str(key)}, ({formatted_value}) {name}\")\n",
    "        i += 1\n",
    "    return text"
   ]
  },
  {
   "cell_type": "code",
   "execution_count": null,
   "id": "216c136e",
   "metadata": {},
   "outputs": [],
   "source": [
    "def get_separators():\n",
    "    \"\"\"Gets the local number separators\n",
    "    :returns the decimal point and thousands separators\"\"\"\n",
    "    decimal_point = locale.localeconv()['decimal_point']\n",
    "    thousands_sep = locale.localeconv()['thousands_sep']\n",
    "    return decimal_point + thousands_sep"
   ]
  },
  {
   "cell_type": "code",
   "execution_count": null,
   "id": "87879045",
   "metadata": {},
   "outputs": [],
   "source": [
    "def plot_Y_against_X_as_bar_chart(x_axis, y_axis, plot_title, x_axis_title, y_axis_title, margin, filename, \n",
    "                            colour=\"#0028be\", width=600, height=500):\n",
    "    \"\"\"Plots the Y axis values against the X axis values, using the specified titles in the plot and on the axes,\n",
    "    and is plotted under the given filename\n",
    "    Optionally, you can enter a dict as the margin, to set the size of the graph margins (useful if text is\n",
    "    overlapping). See plotly documentation for more information\n",
    "    :param x_axis - the x_axis values\n",
    "    :param y_axis - the y_axis values\n",
    "    :param plot_title - the title displayed above the plot\n",
    "    :param x_axis_title - the title displayed below the x axis\n",
    "    :param y_axis_title - the title displayed below the y axis\n",
    "    :param margin - space to leave around the plot\n",
    "    :param filename - filename of the plot\n",
    "    :param colour - optional, colour to use for the bars\n",
    "    :param width - optional, width of the plot\n",
    "    :param height - optional, height of the plot\n",
    "    \"\"\"\n",
    "    if not x_axis:\n",
    "        raise ValueError(\"x_axis values list is empty\")\n",
    "\n",
    "    if not y_axis:\n",
    "        raise ValueError(\"y_axis values list is empty\")\n",
    "\n",
    "    if len(x_axis) != len(y_axis):\n",
    "        raise ValueError(\"The x and y axis values do not have the same number of values (%d and %d)\"%(len(x_axis), len(y_axis)))\n",
    "\n",
    "    data = [go.Bar(\n",
    "                x=x_axis,\n",
    "                y=y_axis,\n",
    "                text=format_overlay_hover_info(x_axis, y_axis, \"\"),\n",
    "                hoverinfo='text',\n",
    "                marker=dict(\n",
    "                    color=colour,\n",
    "                    line=dict(\n",
    "                        color=colour,\n",
    "                        width=2,\n",
    "                    )\n",
    "                )\n",
    "                )]\n",
    "\n",
    "    layout = go.Layout(\n",
    "        title=plot_title,\n",
    "        width=width,\n",
    "        height=height,\n",
    "        margin=margin,\n",
    "        xaxis=dict(\n",
    "            title=x_axis_title,\n",
    "            titlefont=dict(\n",
    "                family='Arial, monospace',\n",
    "                size=18\n",
    "            ),\n",
    "                type=\"category\"\n",
    "        ),\n",
    "        yaxis=dict(\n",
    "            title=y_axis_title,\n",
    "            titlefont=dict(\n",
    "                family='Arial, monospace',\n",
    "                size=18\n",
    "            )\n",
    "        )\n",
    "        , \n",
    "        separators=get_separators()\n",
    "    )\n",
    "    fig = go.Figure(data=data, layout=layout) \n",
    "    pio.show(fig, filename=filename, config={})"
   ]
  },
  {
   "cell_type": "code",
   "execution_count": null,
   "id": "b792fc0a",
   "metadata": {},
   "outputs": [],
   "source": [
    "def plot_pie_chart(labels, values, title, margin, filename, colours=[\"#009fda\", \"#e00034\"], width=950, height=600):\n",
    "    \"\"\"Creates a single pie chart with the given values and labels, optionally using the colours specified.\n",
    "    If \"colours\" is empty, then default colours are used.\n",
    "    Optionally, you can enter a dict as the margin, to set the size of the graph margins (useful if text is\n",
    "    overlapping). See plotly documentation for more information\n",
    "    :param labels - the labels of the chart segments\n",
    "    :param values - the values of the chart segments\n",
    "    :param title - the title displayed above the chart\n",
    "    :param margin - the space to leave around the chart\n",
    "    :param filename - the filename of the chart\n",
    "    :param colours - optional, the colours to use for the segments\n",
    "    :param width - optional, width of the plot\n",
    "    :param height - optional, height of the plot\n",
    "    \"\"\"\n",
    "\n",
    "    if not labels:\n",
    "        raise ValueError(\"Labels list is empty\")\n",
    "\n",
    "    if not values:\n",
    "        raise ValueError(\"Values list is empty\")\n",
    "\n",
    "    if len(labels) != len(values):\n",
    "        raise ValueError(\"Must have equal number of items in labels and values\")\n",
    "\n",
    "    trace = go.Pie(labels=labels, values=values, sort=False, textinfo='label+percent', textposition=\"outside\",\n",
    "                hoverinfo='value',\n",
    "                hole=.4,\n",
    "                showlegend=False,\n",
    "                marker=dict(\n",
    "                            colors=colours,\n",
    "                            line=dict(color='#000000', width=2))\n",
    "                            )\n",
    "\n",
    "    layout = go.Layout(title=title, width=width, height=height, margin=margin, separators=get_separators())\n",
    "\n",
    "    fig = go.Figure(data=[trace], layout=layout)\n",
    "    pio.show(fig, filename=filename, config={})"
   ]
  },
  {
   "cell_type": "code",
   "execution_count": null,
   "id": "e744a484",
   "metadata": {},
   "outputs": [],
   "source": [
    "programmes_dataframe = pd.read_csv(\"joop.csv\", sep='|', parse_dates=['Uitzenddatum'], converters={\"Zendgemachtigde\": literal_eval})\n",
    "print(programmes_dataframe)"
   ]
  },
  {
   "cell_type": "markdown",
   "id": "fabb9291",
   "metadata": {},
   "source": [
    "## Unique titles"
   ]
  },
  {
   "cell_type": "code",
   "execution_count": null,
   "id": "b2fd56fd",
   "metadata": {},
   "outputs": [],
   "source": [
    "print(f\"{len(programmes_dataframe['Titel'].unique())} unique programme titles\")\n",
    "title_counts = programmes_dataframe[\"Titel\"].value_counts()\n",
    "print(title_counts)"
   ]
  },
  {
   "cell_type": "markdown",
   "id": "e2c4109c",
   "metadata": {},
   "source": [
    "## Total number of hours"
   ]
  },
  {
   "cell_type": "code",
   "execution_count": null,
   "id": "0b3dc08c",
   "metadata": {},
   "outputs": [],
   "source": [
    "length_in_minutes = programmes_dataframe['lengte programma in minuten (indien niet bij ons aanwezig aanwezig lengte bij benadering handmatig vermeld)'].sum()\n",
    "print(f\"Total number of hours {length_in_minutes/60}\")"
   ]
  },
  {
   "cell_type": "markdown",
   "id": "856b2c0a",
   "metadata": {},
   "source": [
    "## Digital content"
   ]
  },
  {
   "cell_type": "code",
   "execution_count": null,
   "id": "10a76206",
   "metadata": {},
   "outputs": [],
   "source": [
    "digital_type_counts = programmes_dataframe[\"digitaal ja/nee\"].value_counts()\n",
    "print(digital_type_counts)"
   ]
  },
  {
   "cell_type": "markdown",
   "id": "16b098bd",
   "metadata": {},
   "source": [
    "## Distribution over time"
   ]
  },
  {
   "cell_type": "code",
   "execution_count": null,
   "id": "61dd6ccf",
   "metadata": {},
   "outputs": [],
   "source": [
    "date_counts = programmes_dataframe[\"Jaartal (start)\"].value_counts().sort_index()\n",
    "print(list(date_counts))\n",
    "plot_Y_against_X_as_bar_chart(list(date_counts.index),\n",
    "                            list(date_counts), \n",
    "                            \"Number of programmes over time\", \n",
    "                            \"Year\",\n",
    "                            \"Number of programmes\", \n",
    "                            dict(t=50), \n",
    "                            \"programmes-over-time\" )"
   ]
  },
  {
   "cell_type": "markdown",
   "id": "2bf2fb4a",
   "metadata": {},
   "source": [
    "## Oldest/newest programmes"
   ]
  },
  {
   "cell_type": "code",
   "execution_count": null,
   "id": "6648f818",
   "metadata": {},
   "outputs": [],
   "source": [
    "oldest_year = int(programmes_dataframe[\"Jaartal (start)\"].min())\n",
    "newest_year = int(programmes_dataframe[\"Jaartal (start)\"].max())\n",
    "\n",
    "# now get the min of the dates within the oldest year\n",
    "oldest_dates = programmes_dataframe[programmes_dataframe[\"Jaartal (start)\"] == oldest_year]\n",
    "\n",
    "if len(oldest_dates) == 1:\n",
    "    # just use date of programme\n",
    "    print(f\"Oldest programme: {oldest_year if pd.isna(oldest_dates.iloc[0]['Uitzenddatum']) else oldest_dates.iloc[0]['Uitzenddatum']}\")\n",
    "else:\n",
    "    print(f\"Oldest programme: {oldest_dates['Uitzenddatum'].min()}\")\n",
    "    \n",
    "# now get the max of the dates within the newest year\n",
    "newest_dates = programmes_dataframe[programmes_dataframe[\"Jaartal (start)\"] == newest_year]\n",
    "\n",
    "if len(newest_dates) == 1:\n",
    "    # just use date of programme\n",
    "    print(f\"Newest programme: {newest_year if pd.isna(newest_dates.iloc[0]['Uitzenddatum']) else newest_dates.iloc[0]['Uitzenddatum']}\")\n",
    "else:\n",
    "    print(f\"Newest programme: {newest_dates['Uitzenddatum'].max()}\")"
   ]
  },
  {
   "cell_type": "markdown",
   "id": "6791d6d2",
   "metadata": {},
   "source": [
    "## Distribution over broadcaster"
   ]
  },
  {
   "cell_type": "code",
   "execution_count": null,
   "id": "d30d2947",
   "metadata": {},
   "outputs": [],
   "source": [
    "print(programmes_dataframe['Zendgemachtigde'].explode())\n",
    "broadcaster_counts = programmes_dataframe['Zendgemachtigde'].explode().value_counts()\n",
    "print(broadcaster_counts)\n",
    "plot_Y_against_X_as_bar_chart(list(broadcaster_counts.index),\n",
    "                            list(broadcaster_counts), \n",
    "                            \"Number of programmes per broadcaster\", \n",
    "                            \"Year\",\n",
    "                            \"Broadcaster\", \n",
    "                            dict(t=50), \n",
    "                            \"programmes-per-broadcaster\" )"
   ]
  },
  {
   "cell_type": "markdown",
   "id": "eef2a56c",
   "metadata": {},
   "source": [
    "## Distribution commercial/public"
   ]
  },
  {
   "cell_type": "code",
   "execution_count": null,
   "id": "0a6eaed9",
   "metadata": {},
   "outputs": [],
   "source": [
    "public_commercial_counts = programmes_dataframe[\"Commerciele of publieke omroep?\"].value_counts()\n",
    "print(public_commercial_counts)\n",
    "plot_pie_chart([\"Commercial\", \"Public\"], \n",
    "                 list(public_commercial_counts),\n",
    "                 \"Public/commercial\", \n",
    "                 {}, \n",
    "                 \"public-commercial-dist\", \n",
    "                 width=700)"
   ]
  },
  {
   "cell_type": "code",
   "execution_count": null,
   "id": "834e6223",
   "metadata": {},
   "outputs": [],
   "source": []
  }
 ],
 "metadata": {
  "kernelspec": {
   "display_name": "shared-notebooks",
   "language": "python",
   "name": "shared-notebooks"
  },
  "language_info": {
   "codemirror_mode": {
    "name": "ipython",
    "version": 3
   },
   "file_extension": ".py",
   "mimetype": "text/x-python",
   "name": "python",
   "nbconvert_exporter": "python",
   "pygments_lexer": "ipython3",
   "version": "3.8.16"
  }
 },
 "nbformat": 4,
 "nbformat_minor": 5
}
