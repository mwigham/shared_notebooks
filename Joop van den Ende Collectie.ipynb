{
 "cells": [
  {
   "cell_type": "code",
   "execution_count": null,
   "id": "bb03bdad",
   "metadata": {},
   "outputs": [],
   "source": [
    "import csv\n",
    "import pandas as pd"
   ]
  },
  {
   "cell_type": "code",
   "execution_count": null,
   "id": "e744a484",
   "metadata": {},
   "outputs": [],
   "source": [
    "programmes_dataframe = pd.read_csv(\"joop.csv\", sep='|')\n",
    "print(programmes_dataframe)"
   ]
  },
  {
   "cell_type": "markdown",
   "id": "fabb9291",
   "metadata": {},
   "source": [
    "## Unique titles"
   ]
  },
  {
   "cell_type": "code",
   "execution_count": null,
   "id": "b2fd56fd",
   "metadata": {},
   "outputs": [],
   "source": [
    "print(f\"{len(programmes_dataframe['Titel'].unique())} unique programme titles\")\n",
    "title_counts = programmes_dataframe[\"Titel\"].value_counts()\n",
    "print(title_counts)"
   ]
  },
  {
   "cell_type": "markdown",
   "id": "e2c4109c",
   "metadata": {},
   "source": [
    "## Total number of hours"
   ]
  },
  {
   "cell_type": "code",
   "execution_count": null,
   "id": "0b3dc08c",
   "metadata": {},
   "outputs": [],
   "source": [
    "length_in_minutes = programmes_dataframe['lengte programma in minuten (indien niet bij ons aanwezig aanwezig lengte bij benadering handmatig vermeld)'].sum()\n",
    "print(f\"Total number of hours {length_in_minutes/60}\")"
   ]
  },
  {
   "cell_type": "markdown",
   "id": "856b2c0a",
   "metadata": {},
   "source": [
    "## Digital content"
   ]
  },
  {
   "cell_type": "code",
   "execution_count": null,
   "id": "10a76206",
   "metadata": {},
   "outputs": [],
   "source": [
    "digital_type_counts = programmes_dataframe[\"digitaal ja/nee\"].value_counts()\n",
    "print(digital_type_counts)"
   ]
  },
  {
   "cell_type": "markdown",
   "id": "2bf2fb4a",
   "metadata": {},
   "source": [
    "## Oldest/newest programmes"
   ]
  },
  {
   "cell_type": "code",
   "execution_count": null,
   "id": "6648f818",
   "metadata": {},
   "outputs": [],
   "source": [
    "oldest_year = int(programmes_dataframe[\"Jaartal (start)\"].min())\n",
    "newest_year = int(programmes_dataframe[\"Jaartal (start)\"].max())\n",
    "\n",
    "# now get the min of the dates within the oldest year\n",
    "# now get the max of the dates within the newest year"
   ]
  },
  {
   "cell_type": "code",
   "execution_count": null,
   "id": "ab088213",
   "metadata": {},
   "outputs": [],
   "source": []
  }
 ],
 "metadata": {
  "kernelspec": {
   "display_name": "shared-notebooks",
   "language": "python",
   "name": "shared-notebooks"
  },
  "language_info": {
   "codemirror_mode": {
    "name": "ipython",
    "version": 3
   },
   "file_extension": ".py",
   "mimetype": "text/x-python",
   "name": "python",
   "nbconvert_exporter": "python",
   "pygments_lexer": "ipython3",
   "version": "3.8.16"
  }
 },
 "nbformat": 4,
 "nbformat_minor": 5
}
