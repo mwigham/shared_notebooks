{
 "cells": [
  {
   "cell_type": "code",
   "execution_count": null,
   "metadata": {},
   "outputs": [],
   "source": [
    "import os\n",
    "import sys\n",
    "import json\n",
    "from Visualisation import PlotlyViz\n",
    "import operator\n",
    "from ArchiveAnalysis import PersonAnalyser\n",
    "from datetime import datetime, timedelta, timezone\n",
    "import csv\n",
    "import locale\n",
    "import pandas as pd\n",
    "import copy"
   ]
  },
  {
   "cell_type": "code",
   "execution_count": null,
   "metadata": {},
   "outputs": [],
   "source": [
    "viz = PlotlyViz.PlotlyViz(\"OFFLINE\")"
   ]
  },
  {
   "cell_type": "code",
   "execution_count": null,
   "metadata": {},
   "outputs": [],
   "source": [
    "def formatName(personName):\n",
    "    if \",\" in personName:\n",
    "        parts = personName.split(\",\")\n",
    "        return \"%s %s\"%(parts[1].strip(), parts[0].strip())"
   ]
  },
  {
   "cell_type": "code",
   "execution_count": null,
   "metadata": {},
   "outputs": [],
   "source": [
    "def convertDateFormat(date):\n",
    "    dateParts = date.split(\"-\")\n",
    "    return \"%s-%s-%s\"%(dateParts[2], dateParts[1], dateParts[0])"
   ]
  },
  {
   "cell_type": "code",
   "execution_count": null,
   "metadata": {},
   "outputs": [],
   "source": [
    "def perdelta(start, end, delta):\n",
    "    curr = start\n",
    "    while curr <= end:\n",
    "        yield curr\n",
    "        curr += delta"
   ]
  },
  {
   "cell_type": "code",
   "execution_count": null,
   "metadata": {},
   "outputs": [],
   "source": [
    "def plotAppearancesPerCategoryValue(category, categoryLabel):\n",
    "    categoryValues, counts = personAnalyser.countAppearancesPerColumnValue(category, \"Date\", sortColumn=\"Date\")\n",
    "    viz.plotYAgainstXAsBarChart(\n",
    "        categoryValues, \n",
    "        counts, \"Number of appearances per %s\"%categoryLabel, categoryLabel.capitalize(), \"Number of appearances\", {}, \"appearances-per-%s\"%categoryLabel)  \n",
    "    return categoryValues, counts"
   ]
  },
  {
   "cell_type": "code",
   "execution_count": null,
   "metadata": {},
   "outputs": [],
   "source": [
    "def plotAveragesPerCategoryValue(valueLabel, category, categoryLabel):\n",
    "    categoryValues, averages = personAnalyser.calculateAverageTimePerColumnValue(category, [valueLabel], sortColumn=valueLabel)\n",
    "    viz.plotYAgainstXAsBarChart(\n",
    "    categoryValues, \n",
    "    averages[0], \"Average %s per %s\"%(valueLabel, categoryLabel), categoryLabel.capitalize(), \"Average %s\"%(valueLabel), {}, \"average-%s-per-%s\"%(valueLabel, categoryLabel))  \n",
    "    return categoryValues, averages[0]"
   ]
  },
  {
   "cell_type": "code",
   "execution_count": null,
   "metadata": {},
   "outputs": [],
   "source": [
    "def plotTotalsPerCategoryValue(valueLabel, category, categoryLabel):\n",
    "    categoryValues, totals = personAnalyser.calculateTotalTimePerColumnValue(category, [valueLabel], sortColumn=valueLabel)\n",
    "    viz.plotYAgainstXAsBarChart(\n",
    "    categoryValues, \n",
    "    totals[0], \"Total %s per %s\"%(valueLabel, categoryLabel), categoryLabel.capitalize(), \"Total %s\"%(valueLabel), {}, \"total-%s-per-%s\"%(valueLabel, categoryLabel))  \n",
    "    return categoryValues, totals[0]"
   ]
  },
  {
   "cell_type": "code",
   "execution_count": null,
   "metadata": {},
   "outputs": [],
   "source": [
    "appearances = pd.read_csv(\"appearances.csv\", sep=';')\n",
    "personAnalyser = PersonAnalyser.PersonAnalyser(appearances)\n",
    "totalNumberOfAppearances = personAnalyser.countRowsInDataframe()\n",
    "totalFaceTime = personAnalyser.getColumnTotal(\"Time face recognised (s)\")\n",
    "totalSpeakerTime = personAnalyser.getColumnTotal(\"Time voice recognised (s)\")\n",
    "totalTime = personAnalyser.getColumnTotal(\"Total time recognised (s)\")\n",
    "print(appearances)"
   ]
  },
  {
   "cell_type": "markdown",
   "metadata": {},
   "source": [
    "## Number of appearances by a politician"
   ]
  },
  {
   "cell_type": "code",
   "execution_count": null,
   "metadata": {},
   "outputs": [],
   "source": [
    "category = \"Name\"\n",
    "categoryLabel = \"person\"\n",
    "names, appearanceCounts = plotAppearancesPerCategoryValue(category, categoryLabel)"
   ]
  },
  {
   "cell_type": "markdown",
   "metadata": {},
   "source": [
    "## Length of appearance time for politician"
   ]
  },
  {
   "cell_type": "code",
   "execution_count": null,
   "metadata": {},
   "outputs": [],
   "source": [
    "keysList, valuesLists = personAnalyser.calculateTimeBreakdownPerColumnValue(\"Name\", [\"Time face recognised (s)\", \"Time voice recognised (s)\"], sortColumn=\"Total time recognised (s)\")\n",
    "namesList = [\"Face\", \"Speaker\"]\n",
    "keysLists = [keysList, keysList]\n",
    "viz.plotStackedBarChart(valuesLists, keysLists,  namesList, \"Time appeared (s) for all politicians\", \"Person\", \"Time appeared (s)\", \"person-appearance-time-all-politicians\", {})\n",
    "\n"
   ]
  },
  {
   "cell_type": "markdown",
   "metadata": {},
   "source": [
    "## Number of appearances per gender"
   ]
  },
  {
   "cell_type": "code",
   "execution_count": null,
   "metadata": {},
   "outputs": [],
   "source": [
    "category = \"Gender\"\n",
    "categoryLabel = \"gender\"\n",
    "genders, counts = plotAppearancesPerCategoryValue(category, categoryLabel)\n",
    "maleAppearanceCounts = counts[genders.index(\"M\")]   \n",
    "femaleAppearanceCounts = counts[genders.index(\"V\")]  "
   ]
  },
  {
   "cell_type": "markdown",
   "metadata": {},
   "source": [
    "## Average onscreen time per gender"
   ]
  },
  {
   "cell_type": "code",
   "execution_count": null,
   "metadata": {},
   "outputs": [],
   "source": [
    "valueLabel = \"Time face recognised (s)\"\n",
    "category = \"Gender\"\n",
    "categoryLabel = \"Gender\"\n",
    "genders, averages = plotAveragesPerCategoryValue(valueLabel, category, categoryLabel)\n"
   ]
  },
  {
   "cell_type": "markdown",
   "metadata": {},
   "source": [
    "## Average speaking time per gender"
   ]
  },
  {
   "cell_type": "code",
   "execution_count": null,
   "metadata": {},
   "outputs": [],
   "source": [
    "valueLabel = \"Time voice recognised (s)\"\n",
    "category = \"Gender\"\n",
    "categoryLabel = \"Gender\"\n",
    "genders, averages = plotAveragesPerCategoryValue(valueLabel, category, categoryLabel)\n"
   ]
  },
  {
   "cell_type": "markdown",
   "metadata": {},
   "source": [
    "## Speaking time along the political spectrum"
   ]
  },
  {
   "cell_type": "code",
   "execution_count": null,
   "metadata": {},
   "outputs": [],
   "source": [
    "valueLabel = \"Time voice recognised (s)\"\n",
    "category = categoryLabel = \"Party\"\n",
    "parties, partyTimes = plotTotalsPerCategoryValue(valueLabel, category, categoryLabel)\n"
   ]
  },
  {
   "cell_type": "code",
   "execution_count": null,
   "metadata": {},
   "outputs": [],
   "source": [
    "valueLabel = \"Time voice recognised (s)\"\n",
    "category = categoryLabel = \"Party ideology\"\n",
    "ideologies, ideologyTimes = plotTotalsPerCategoryValue(valueLabel, category, categoryLabel)\n",
    "  "
   ]
  }
 ],
 "metadata": {
  "kernelspec": {
   "display_name": "jupyter",
   "language": "python",
   "name": "jupyter"
  },
  "language_info": {
   "codemirror_mode": {
    "name": "ipython",
    "version": 3
   },
   "file_extension": ".py",
   "mimetype": "text/x-python",
   "name": "python",
   "nbconvert_exporter": "python",
   "pygments_lexer": "ipython3",
   "version": "3.7.3"
  }
 },
 "nbformat": 4,
 "nbformat_minor": 2
}
